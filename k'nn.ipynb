{
 "cells": [
  {
   "cell_type": "code",
   "execution_count": 2,
   "id": "550200ce",
   "metadata": {},
   "outputs": [],
   "source": [
    "import numpy as np\n",
    "import pandas as pd\n",
    "import matplotlib.pyplot as plt\n",
    "from sklearn.model_selection import train_test_split\n",
    "from sklearn.preprocessing import StandardScaler\n",
    "from sklearn.neighbors import KNeighborsClassifier\n",
    "from sklearn.linear_model import LogisticRegression\n",
    "from sklearn.metrics import accuracy_score, classification_report, confusion_matrix\n",
    "import seaborn as sns\n"
   ]
  },
  {
   "cell_type": "code",
   "execution_count": 3,
   "id": "3fe01d4c",
   "metadata": {},
   "outputs": [],
   "source": [
    "import numpy as np\n",
    "import matplotlib.pyplot as plt\n",
    "import seaborn as sns\n",
    "from sklearn.model_selection import train_test_split\n",
    "from sklearn.preprocessing import StandardScaler\n",
    "from tensorflow.keras.datasets import cifar10\n",
    "\n",
    "# Load CIFAR-10 dataset\n",
    "(X_train_full, y_train_full), (X_test_full, y_test_full) = cifar10.load_data()\n"
   ]
  },
  {
   "cell_type": "code",
   "execution_count": 4,
   "id": "763eb3d6",
   "metadata": {},
   "outputs": [
    {
     "name": "stdout",
     "output_type": "stream",
     "text": [
      "X_train shape: (50000, 3072)\n",
      "y_train shape: (50000,)\n"
     ]
    }
   ],
   "source": [
    "\n",
    "# Class names in CIFAR-10\n",
    "class_names = ['airplane', 'automobile', 'bird', 'cat', 'deer', 'dog', 'frog', 'horse', 'ship', 'truck']\n",
    "\n",
    "# Mapping to 'animal' (1) and 'vehicle' (0)\n",
    "an_classes = [2, 3, 4, 5, 6, 7]  # bird, cat, deer, dog, frog, horse\n",
    "vehicle_classes = [0, 1, 8, 9]  # airplane, automobile, ship, truck\n",
    "# np.isin(y_train_full, vehicle_classes) → returns True/False array where:\n",
    "\n",
    "# True if label is in vehicle_classes (0, 1, 8, 9)\n",
    "\n",
    "# False otherwise (i.e., it's an animal)\n",
    "\n",
    "# np.where(..., 0, 1) → converts:\n",
    "\n",
    "# True → 0 (vehicle)\n",
    "\n",
    "# False → 1 (animal)\n",
    "\n",
    "# .flatten() → reshapes label array to 1D vector.\n",
    "y_train = np.where(np.isin(y_train_full, vehicle_classes), 0, 1).flatten()\n",
    "y_test = np.where(np.isin(y_test_full, vehicle_classes), 0, 1).flatten()\n",
    "# For CIFAR-10 after flattening:\n",
    "\n",
    "# You get a table with 10000 rows (images) and 3072 columns (features per image).\n",
    "# After flattening: becomes a 1D array of length 3072 → [p1, p2, p3, ..., p3072].\n",
    "# Flatten images for Logistic Regression and KNN\n",
    "# Scales pixel values from [0, 255] to [0, 1].\n",
    "# Pixel intensity values in images range from 0 to 255 (uint8). ML algorithms perform better if data is on a smaller scale.\n",
    "\n",
    "\n",
    "X_train_flat = X_train_full.reshape(X_train_full.shape[0], -1) / 255.0\n",
    "X_test_flat = X_test_full.reshape(X_test_full.shape[0], -1) / 255.0\n",
    "\n",
    "# Standardize to ensure the model treats all features equally in importance & scale.\n",
    "\n",
    "# Standardization helps with:\n",
    "\n",
    "# Faster convergence (for gradient-based optimizers).\n",
    "\n",
    "# Distance-based models (like KNN) to avoid dominance of features with higher variance.\n",
    "# Standardize the data\n",
    "scaler = StandardScaler()\n",
    "X_train_scaled = scaler.fit_transform(X_train_flat)\n",
    "X_test_scaled = scaler.transform(X_test_flat)\n",
    "\n",
    "print(f\"X_train shape: {X_train_scaled.shape}\")\n",
    "print(f\"y_train shape: {y_train.shape}\")\n"
   ]
  },
  {
   "cell_type": "code",
   "execution_count": 5,
   "id": "13be5611",
   "metadata": {},
   "outputs": [
    {
     "name": "stderr",
     "output_type": "stream",
     "text": [
      "c:\\Users\\intel\\Desktop\\UniCourses\\ai cep\\myenv\\Lib\\site-packages\\joblib\\externals\\loky\\backend\\context.py:136: UserWarning: Could not find the number of physical cores for the following reason:\n",
      "[WinError 2] The system cannot find the file specified\n",
      "Returning the number of logical cores instead. You can silence this warning by setting LOKY_MAX_CPU_COUNT to the number of cores you want to use.\n",
      "  warnings.warn(\n",
      "  File \"c:\\Users\\intel\\Desktop\\UniCourses\\ai cep\\myenv\\Lib\\site-packages\\joblib\\externals\\loky\\backend\\context.py\", line 257, in _count_physical_cores\n",
      "    cpu_info = subprocess.run(\n",
      "               ^^^^^^^^^^^^^^^\n",
      "  File \"C:\\Program Files\\Python312\\Lib\\subprocess.py\", line 548, in run\n",
      "    with Popen(*popenargs, **kwargs) as process:\n",
      "         ^^^^^^^^^^^^^^^^^^^^^^^^^^^\n",
      "  File \"C:\\Program Files\\Python312\\Lib\\subprocess.py\", line 1026, in __init__\n",
      "    self._execute_child(args, executable, preexec_fn, close_fds,\n",
      "  File \"C:\\Program Files\\Python312\\Lib\\subprocess.py\", line 1538, in _execute_child\n",
      "    hp, ht, pid, tid = _winapi.CreateProcess(executable, args,\n",
      "                       ^^^^^^^^^^^^^^^^^^^^^^^^^^^^^^^^^^^^^^^\n"
     ]
    },
    {
     "name": "stdout",
     "output_type": "stream",
     "text": [
      "KNN Accuracy: 0.8104\n",
      "              precision    recall  f1-score   support\n",
      "\n",
      "           0       0.83      0.66      0.74      4000\n",
      "           1       0.80      0.91      0.85      6000\n",
      "\n",
      "    accuracy                           0.81     10000\n",
      "   macro avg       0.82      0.79      0.79     10000\n",
      "weighted avg       0.81      0.81      0.81     10000\n",
      "\n"
     ]
    }
   ],
   "source": [
    "# Train KNN model\n",
    "knn = KNeighborsClassifier(n_neighbors=5)\n",
    "knn.fit(X_train_scaled, y_train)\n",
    "\n",
    "# Predict\n",
    "y_pred_knn = knn.predict(X_test_scaled)\n",
    "\n",
    "# Evaluate\n",
    "print(\"KNN Accuracy:\", accuracy_score(y_test, y_pred_knn))\n",
    "print(classification_report(y_test, y_pred_knn))\n"
   ]
  },
  {
   "cell_type": "markdown",
   "id": "9aa9f9da",
   "metadata": {},
   "source": [
    "#\n",
    "LOgistic Regresion Model1\n"
   ]
  },
  {
   "cell_type": "code",
   "execution_count": 6,
   "id": "e756ce85",
   "metadata": {},
   "outputs": [
    {
     "name": "stdout",
     "output_type": "stream",
     "text": [
      "Logistic Regression Accuracy: 0.807\n",
      "              precision    recall  f1-score   support\n",
      "\n",
      "           0       0.73      0.83      0.77      4000\n",
      "           1       0.87      0.79      0.83      6000\n",
      "\n",
      "    accuracy                           0.81     10000\n",
      "   macro avg       0.80      0.81      0.80     10000\n",
      "weighted avg       0.82      0.81      0.81     10000\n",
      "\n"
     ]
    },
    {
     "name": "stderr",
     "output_type": "stream",
     "text": [
      "c:\\Users\\intel\\Desktop\\UniCourses\\ai cep\\myenv\\Lib\\site-packages\\sklearn\\linear_model\\_logistic.py:469: ConvergenceWarning: lbfgs failed to converge (status=1):\n",
      "STOP: TOTAL NO. of ITERATIONS REACHED LIMIT.\n",
      "\n",
      "Increase the number of iterations (max_iter) or scale the data as shown in:\n",
      "    https://scikit-learn.org/stable/modules/preprocessing.html\n",
      "Please also refer to the documentation for alternative solver options:\n",
      "    https://scikit-learn.org/stable/modules/linear_model.html#logistic-regression\n",
      "  n_iter_i = _check_optimize_result(\n"
     ]
    }
   ],
   "source": [
    "# Train Logistic Regression\n",
    "\n",
    "from sklearn.linear_model import LogisticRegression\n",
    "log_reg = LogisticRegression(max_iter=10)\n",
    "log_reg.fit(X_train_scaled, y_train)\n",
    "\n",
    "# Predict\n",
    "y_pred_log = log_reg.predict(X_test_scaled)\n",
    "\n",
    "# Evaluate\n",
    "print(\"Logistic Regression Accuracy:\", accuracy_score(y_test, y_pred_log))\n",
    "print(classification_report(y_test, y_pred_log))\n"
   ]
  },
  {
   "cell_type": "code",
   "execution_count": 7,
   "id": "3cbf8410",
   "metadata": {},
   "outputs": [
    {
     "data": {
      "image/png": "[encoded data removed]",
      "text/plain": [
       "<Figure size 640x480 with 2 Axes>"
      ]
     },
     "metadata": {},
     "output_type": "display_data"
    }
   ],
   "source": [
    "# Confusion Matrix for Logistic Regression\n",
    "cm = confusion_matrix(y_test, y_pred_log)\n",
    "sns.heatmap(cm, annot=True, fmt='d', cmap='Blues')\n",
    "plt.title('Logistic Regression Confusion Matrix')\n",
    "plt.xlabel('Predicted')\n",
    "plt.ylabel('Actual')\n",
    "plt.show()\n"
   ]
  },
  {
   "cell_type": "markdown",
   "id": "2c3dc373",
   "metadata": {},
   "source": [
    "LR M2"
   ]
  },
  {
   "cell_type": "markdown",
   "id": "8375f87d",
   "metadata": {},
   "source": []
  },
  {
   "cell_type": "code",
   "execution_count": 8,
   "id": "47646587",
   "metadata": {},
   "outputs": [
    {
     "name": "stderr",
     "output_type": "stream",
     "text": [
      "c:\\Users\\intel\\Desktop\\UniCourses\\ai cep\\myenv\\Lib\\site-packages\\sklearn\\linear_model\\_logistic.py:469: ConvergenceWarning: lbfgs failed to converge (status=1):\n",
      "STOP: TOTAL NO. of ITERATIONS REACHED LIMIT.\n",
      "\n",
      "Increase the number of iterations (max_iter) or scale the data as shown in:\n",
      "    https://scikit-learn.org/stable/modules/preprocessing.html\n",
      "Please also refer to the documentation for alternative solver options:\n",
      "    https://scikit-learn.org/stable/modules/linear_model.html#logistic-regression\n",
      "  n_iter_i = _check_optimize_result(\n"
     ]
    },
    {
     "name": "stdout",
     "output_type": "stream",
     "text": [
      "Logistic Regression Accuracy: 0.8188\n",
      "              precision    recall  f1-score   support\n",
      "\n",
      "           0       0.79      0.74      0.77      4000\n",
      "           1       0.83      0.87      0.85      6000\n",
      "\n",
      "    accuracy                           0.82     10000\n",
      "   macro avg       0.81      0.81      0.81     10000\n",
      "weighted avg       0.82      0.82      0.82     10000\n",
      "\n"
     ]
    }
   ],
   "source": [
    "\n",
    "from sklearn.linear_model import LogisticRegression\n",
    "log_reg2 = LogisticRegression(max_iter=100)\n",
    "log_reg2.fit(X_train_scaled, y_train)\n",
    "\n",
    "# Predict\n",
    "y_pred_log2 = log_reg2.predict(X_test_scaled)\n",
    "\n",
    "# Evaluate\n",
    "print(\"Logistic Regression Accuracy:\", accuracy_score(y_test, y_pred_log2))\n",
    "print(classification_report(y_test, y_pred_log2))"
   ]
  },
  {
   "cell_type": "code",
   "execution_count": 9,
   "id": "7d54c199",
   "metadata": {},
   "outputs": [
    {
     "name": "stderr",
     "output_type": "stream",
     "text": [
      "c:\\Users\\intel\\Desktop\\UniCourses\\ai cep\\myenv\\Lib\\site-packages\\sklearn\\linear_model\\_sag.py:349: ConvergenceWarning: The max_iter was reached which means the coef_ did not converge\n",
      "  warnings.warn(\n"
     ]
    },
    {
     "name": "stdout",
     "output_type": "stream",
     "text": [
      "Logistic Regression with Elastic Net Accuracy: 0.8217\n",
      "              precision    recall  f1-score   support\n",
      "\n",
      "           0       0.80      0.74      0.77      4000\n",
      "           1       0.83      0.88      0.86      6000\n",
      "\n",
      "    accuracy                           0.82     10000\n",
      "   macro avg       0.82      0.81      0.81     10000\n",
      "weighted avg       0.82      0.82      0.82     10000\n",
      "\n"
     ]
    },
    {
     "data": {
      "image/png": "[encoded data removed]",
      "text/plain": [
       "<Figure size 640x480 with 2 Axes>"
      ]
     },
     "metadata": {},
     "output_type": "display_data"
    }
   ],
   "source": [
    "log_reg_elastic = LogisticRegression(C=0.1, penalty='elasticnet', solver='saga', l1_ratio=0.5)\n",
    "log_reg_elastic.fit(X_train_scaled, y_train)\n",
    "# Predict   \n",
    "y_pred_log_elastic = log_reg_elastic.predict(X_test_scaled)\n",
    "# Evaluate      \n",
    "print(\"Logistic Regression with Elastic Net Accuracy:\", accuracy_score(y_test, y_pred_log_elastic))\n",
    "print(classification_report(y_test, y_pred_log_elastic))\n",
    "# Confusion Matrix for Logistic Regression with Elastic Net\n",
    "cm_elastic = confusion_matrix(y_test, y_pred_log_elastic)\n",
    "sns.heatmap(cm_elastic, annot=True, fmt='d', cmap='Blues')\n",
    "plt.title('Logistic Regression with Elastic Net Confusion Matrix')\n",
    "plt.xlabel('Predicted')\n",
    "plt.ylabel('Actual')\n",
    "plt.show()\n"
   ]
  },
  {
   "cell_type": "code",
   "execution_count": null,
   "id": "48bd102e",
   "metadata": {},
   "outputs": [],
   "source": [
    "from sklearn.neighbors import KNeighborsClassifier\n",
    "\n",
    "# Example 1: KNN with small number of neighbors and uniform weights\n",
    "knn_1 = KNeighborsClassifier(n_neighbors=3, metric='euclidean', weights='uniform')\n",
    "knn_1.fit(X_train_scaled, y_train)\n",
    "y_pred_1 = knn_1.predict(X_test_scaled)\n",
    "print(\"Accuracy (small k, uniform weights):\", accuracy_score(y_test, y_pred_1))\n",
    "\n",
    "# Example 2: KNN with large number of neighbors and distance weights\n",
    "knn_2 = KNeighborsClassifier(n_neighbors=15, metric='manhattan', weights='distance')\n",
    "knn_2.fit(X_train_scaled, y_train)\n",
    "y_pred_2 = knn_2.predict(X_test_scaled)\n",
    "print(\"Accuracy (large k, distance weights):\", accuracy_score(y_test, y_pred_2))\n"
   ]
  },
  {
   "cell_type": "code",
   "execution_count": null,
   "id": "099f344e",
   "metadata": {},
   "outputs": [],
   "source": [
    "# # Split data into Train (70%), Validation (15%), Test (15%)\n",
    "# X_train70, X_temp, y_train70, y_temp = train_test_split(X_train_full, y, test_size=0.3, random_state=42)\n",
    "# X_val15, X_test15, y_val15, y_test15 = train_test_split(X_temp, y_temp, test_size=0.5, random_state=42)\n"
   ]
  },
  {
   "cell_type": "code",
   "execution_count": null,
   "id": "51f9a59a",
   "metadata": {},
   "outputs": [],
   "source": [
    "\n",
    "knn_params = {\n",
    "    'n_neighbors': [3, 5, 7, 9],\n",
    "    'weights': ['uniform', 'distance'],\n",
    "    'metric': ['euclidean', 'manhattan']\n",
    "}\n",
    "\n",
    "# To store results\n",
    "results = []\n",
    "from sklearn.model_selection import train_test_split\n",
    "\n",
    "splits = [0.2, 0.3, 0.4]  # Different test sizes\n",
    "\n",
    "for split in splits:\n",
    "    X_train_split, X_test_split, y_train_split, y_test_split = train_test_split(\n",
    "        X_train_scaled, y_train, test_size=split, random_state=42)\n",
    "    \n",
    "    print(f\"\\nTrain-Test Split: {int((1-split)*100)}% Train / {int(split*100)}% Test\")\n",
    "    \n",
    "    for n in knn_params['n_neighbors']:\n",
    "        for w in knn_params['weights']:\n",
    "            for m in knn_params['metric']:\n",
    "                knn = KNeighborsClassifier(n_neighbors=n, weights=w, metric=m)\n",
    "                knn.fit(X_train_split, y_train_split)\n",
    "                y_pred = knn.predict(X_test_split)\n",
    "                acc = accuracy_score(y_test_split, y_pred)\n",
    "                print(f\"KNN (n_neighbors={n}, weights='{w}', metric='{m}') → Accuracy: {acc:.4f}\")      \n",
    "                results.append({\n",
    "                    'n_neighbors': n,\n",
    "                    'weights': w,\n",
    "                    'metric': m,\n",
    "                    'accuracy': acc,\n",
    "                    'train_size': int((1-split)*100),\n",
    "                    'test_size': int(split*100)\n",
    "                })\n"
   ]
  },
  {
   "cell_type": "code",
   "execution_count": null,
   "id": "f1e2d5a0",
   "metadata": {},
   "outputs": [],
   "source": []
  }
 ],
 "metadata": {
  "kernelspec": {
   "display_name": "myenv",
   "language": "python",
   "name": "python3"
  },
  "language_info": {
   "codemirror_mode": {
    "name": "ipython",
    "version": 3
   },
   "file_extension": ".py",
   "mimetype": "text/x-python",
   "name": "python",
   "nbconvert_exporter": "python",
   "pygments_lexer": "ipython3",
   "version": "3.12.4"
  }
 },
 "nbformat": 4,
 "nbformat_minor": 5
}
